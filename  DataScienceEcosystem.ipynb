{
 "cells": [
  {
   "cell_type": "markdown",
   "id": "4153e74b-706a-49a1-8bac-390692cad499",
   "metadata": {},
   "source": [
    "# Data Science Tools and Ecosystem"
   ]
  },
  {
   "cell_type": "markdown",
   "id": "befe7a1f-0da6-4f7d-a6e5-f1163aa6fbff",
   "metadata": {},
   "source": [
    "In this notebook, Data Science Tools and Ecosystem are summarized."
   ]
  },
  {
   "cell_type": "markdown",
   "id": "9fa3c1bb-d70d-42c7-add8-9123365f4691",
   "metadata": {},
   "source": [
    "__Objective:__\n",
    "+ Popular languange in Data Science\n",
    "+ Commonly library in Data Science\n",
    "+ Data Science Tools\n",
    "+ Example of evaluating arithmetic in Python"
   ]
  },
  {
   "cell_type": "markdown",
   "id": "f7efe367-b5d7-4089-82d3-a284912cf546",
   "metadata": {},
   "source": [
    "Some of the popular languages that Data Scientists use are:\n",
    "1. Python\n",
    "2. R\n",
    "3. SQL"
   ]
  },
  {
   "cell_type": "markdown",
   "id": "ea995ab6-c683-45e1-898b-c102c74f06d3",
   "metadata": {},
   "source": [
    "Some of the commonly used libraries used by Data Scientists include:\n",
    "1. Pandas\n",
    "2. Scikit-learn\n",
    "3. TensorFlow\n",
    "4. NumPy"
   ]
  },
  {
   "cell_type": "markdown",
   "id": "9532f9cf-8f28-40aa-b80c-3a572defbaed",
   "metadata": {},
   "source": [
    "| Data Science Tools |\n",
    "|-------------------|\n",
    "| Jupyter Notebook  |\n",
    "| RStudio           |\n",
    "| VS Code with extensions |"
   ]
  },
  {
   "cell_type": "markdown",
   "id": "e6c9fde2-c556-4d7b-be6e-dd120923e749",
   "metadata": {},
   "source": [
    "### Below are a few examples of evaluating arithmetic expressions in Python"
   ]
  },
  {
   "cell_type": "code",
   "execution_count": 4,
   "id": "9bf239b0-4f98-4ba7-b4ac-df6a3b5dc097",
   "metadata": {},
   "outputs": [
    {
     "data": {
      "text/plain": [
       "17"
      ]
     },
     "execution_count": 4,
     "metadata": {},
     "output_type": "execute_result"
    }
   ],
   "source": [
    "#This a simple arithmetic expression to mutiply then add integers\n",
    "(3*4)+5"
   ]
  },
  {
   "cell_type": "code",
   "execution_count": 12,
   "id": "031ea799-c8c1-467e-aee8-11ebf34e1b2b",
   "metadata": {},
   "outputs": [
    {
     "name": "stdout",
     "output_type": "stream",
     "text": [
      "200 minutes equal 3.3333333333333335 hours\n"
     ]
    }
   ],
   "source": [
    "#This will convert 200 minutes to hours by diving by 60\n",
    "hours = 200 / 60\n",
    "print(\"200 minutes equal\", hours, \"hours\") "
   ]
  },
  {
   "cell_type": "markdown",
   "id": "48655ba2-4ac9-4723-88cb-fd46455f3ee9",
   "metadata": {},
   "source": [
    "## Author\n",
    "Faisal F"
   ]
  },
  {
   "cell_type": "code",
   "execution_count": null,
   "id": "9a0021f1-cc2a-4a8e-81f9-e097f0e26efc",
   "metadata": {},
   "outputs": [],
   "source": []
  }
 ],
 "metadata": {
  "kernelspec": {
   "display_name": "Python 3 (ipykernel)",
   "language": "python",
   "name": "python3"
  },
  "language_info": {
   "codemirror_mode": {
    "name": "ipython",
    "version": 3
   },
   "file_extension": ".py",
   "mimetype": "text/x-python",
   "name": "python",
   "nbconvert_exporter": "python",
   "pygments_lexer": "ipython3",
   "version": "3.10.9"
  }
 },
 "nbformat": 4,
 "nbformat_minor": 5
}
